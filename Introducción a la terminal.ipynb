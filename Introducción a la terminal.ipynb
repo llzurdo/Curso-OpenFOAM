{
 "cells": [
  {
   "attachments": {},
   "cell_type": "markdown",
   "id": "140dfa91-2bd3-47c6-8f1d-82de8a3e2a56",
   "metadata": {},
   "source": [
    "# Introducción al uso de la terminal (Linux)\n",
    "\n",
    "## Objetivo principal de la sección\n",
    "En esta sección el objetivo será que el/la alumno/a logre familiarizarse con la terminal/consola de linux y sus utilidades/atajos/comandos mas importantes.\n",
    "\n",
    "## ¿Qué es la terminal?\n",
    "\n",
    "La terminal es una interfaz de usuario basada en texto que nos permite interactuar directamente con el sistema operativo que opere de base (se puede utilizar tanto para linux como para windows).\n",
    "\n",
    "![Texto alternativo](Imagenes/1.png)\n",
    "\n",
    "La mas popularizada para su uso profesional es la consola/terminal de linux, debido a que este sistema operativo esta optimizado para ser eficiente y customizable a gusto del consumidor. \n",
    "\n",
    "Entre los usos principales del sistema operativo Linux tenemos:\n",
    "\n",
    "- **Servidores**: La gran mayoria de servidores a lo largo del mundo utilizan alguna distribución de linux debido a su eficiencia, estabilidad y capacidad de manejar grandes cargas de trabajo. Entre algunos ejemplos de servidores tenemos: Servidores Web (hosting), Bases de datos y Backends\n",
    "- **Supercomputadoras**: Gracias a su eficiencia y potencia, ademas de su capacidad de recorte de recursos innecesarios (como por ejemplo una interfaz gráfica). Linux nos permite sacarle todo el \"jugo\" a la potencia de nuestro hardware, esto se traduce en un uso **ideal** para super computadoras en donde queremos aprovechar toda su potencia.\n",
    "- **Dispositivos embebidos**: Muchos dispositivos de IOT como por ejemplo Raspberry py y microcontroladores, cuentan con adaptaciones de linux de bajos recursos corriendo como sistema operativo.\n",
    "- **Escritorio**: Se utiliza como sistema operativo de una pc de escritorio clásica. Como sería windows o MACos.\n",
    "- **Sistemas de misión crítica**: Se les llama asi a cualquier sistema informático o no, que sea de crucial importancia su funcionamiento (deba presentar la menor tasa de fallos posibles a lo largo del tiempo). Debido a la confiabilidad de Linux, generalmente estos sistemas informáticos lo utilizan.\n",
    "\n",
    "Algunas de sus caracteristicas mas importantes son:\n",
    "\n",
    "- **Gratuito**: Al pertenecer al software abierto/libre, es gratuito y de libre uso, tanto comercial como personal.\n",
    "- **Código abierto**: Esto significa que podemos modifcar este sistema operativo tanto como querramos/sepamos hacerlo.\n",
    "- **Multitarea y Multiusuario**: Gracias a su eficiente manejo de recursos, podemos realizar tareas de multiples usuarios de manera simultanea y a su vez, cada usuario puede utilizar multiples hilos de procesamiento (Entiendase Hilos casi como los nucleos del procesador).\n",
    "- **Flexibilidad y personalización**: Gracias a que es de código abierto su personalización es literalmente infinita.\n",
    "- **Estabilidad y rendimiento**: Sumamente confiable y eficiente en rendimiento.\n",
    "- **Seguridad**: Linux cuenta de base con múltiples capas de seguridad preinstaladas (al menos la versiones oficiales).\n",
    "- **Amplia gama de distribuciones**: Al ser de código abierto, muchos colaboradores han desarrollado multiples versiones distintas de linux con dinstintos objetivos, lo cual lo hace altamente adaptable a las necesidades de casi cualquier usuario. Entre sus principales distros tenemos *Ubuntu*, *Debian*, *Fedora*, *CentOS*, *Arch Linux*, (Etc).\n",
    "- **Comunidad Activa** y **Compatibilidad con hardware**.\n",
    "\n",
    "\n",
    "\n",
    "## ¿Por qué la vamos a necesitar?\n",
    "\n",
    "Principalmente porque OpenFOAM opera de manera nativa sobre el sistema operativo linux. Entre otras cosas por ser un software libre. \n",
    "\n",
    "Si bien existen formas de correrlo sobre windows, en verdad en el fondo son solo máquinas virtuales adaptadas para correr un Ubuntu minimalista que permita correr OpenFOAM con todo lo necesario. Este sistema operativo en algunas versiones no tiene interfaz gráfica (para optimizar recursos), lo cual nos obliga a saber utilizar la terminal de linux para realizar actividades en tal sistema operativo.\n",
    "\n",
    "## Mención de algunas terminales (opcional solo para curiosos)\n",
    "### Bash\n",
    "Es el shell predeterminado en la mayoría de las distribuciones Linux y ofrece una amplia gama de funcionalidades para la automatización de tareas y la administración del sistema. \n",
    "**Este es el bash que vamos a utilizar**\n",
    "### Zsh\n",
    "Destaca por su flexibilidad y personalización, ofreciendo características como sugerencias de autocompletado y temas visuales. \n",
    "### Fish\n",
    "Se caracteriza por su enfoque en la facilidad de uso y la experiencia del usuario, con una sintaxis más intuitiva y una función de autocompletado mejorada. \n",
    "### Ksh\n",
    "Un shell tradicional que comparte muchas características con Bash y que puede ser útil en entornos específicos. \n",
    "\n",
    "## Atajos de teclado en Linux (Terminal y Sistema)\n",
    "\n",
    "### 📄 Comandos en la terminal\n",
    "\n",
    "| Atajo         | Acción                                                                 |\n",
    "|---------------|------------------------------------------------------------------------|\n",
    "| Ctrl + A      | Mueve el cursor al inicio de la línea.                                 |\n",
    "| Ctrl + E      | Mueve el cursor al final de la línea.                                  |\n",
    "| Ctrl + U      | Borra desde el cursor hasta el inicio de la línea.                     |\n",
    "| Ctrl + K      | Borra desde el cursor hasta el final de la línea.                      |\n",
    "| Ctrl + Y      | Pega el último texto eliminado.                                        |\n",
    "| Ctrl + W      | Elimina la palabra antes del cursor.                                   |\n",
    "| Ctrl + H      | Elimina el carácter antes del cursor (equivale a la tecla retroceso).  |\n",
    "| Ctrl + D      | Cierra la sesión de la terminal (envía un EOF).                        |\n",
    "| Ctrl + C      | Finaliza un proceso en ejecución.                                      |\n",
    "| Ctrl + Z      | Suspende un proceso en ejecución y lo envía al fondo.                  |\n",
    "| Ctrl + L      | Limpia la terminal (similar a `clear`).                                |\n",
    "\n",
    "### 🔍 Navegación en el historial de comandos\n",
    "\n",
    "| Atajo           | Acción                                                   |\n",
    "|-----------------|----------------------------------------------------------|\n",
    "| Flecha arriba   | Muestra el comando anterior en el historial.             |\n",
    "| Flecha abajo    | Muestra el comando siguiente en el historial.            |\n",
    "| Ctrl + R        | Busca comandos en el historial (búsqueda incremental).   |"
   ]
  },
  {
   "cell_type": "markdown",
   "id": "b3f85eec-b4fe-45e8-84bd-2307debbffd8",
   "metadata": {},
   "source": [
    "# Navegación de archivos y directorios\n",
    "\n",
    "## Comando: pwd \n",
    "\n",
    "Este comando nos dice en la dirección exacta en las que estamos parados (es decir la carpeta en la cual nos encontramos)."
   ]
  },
  {
   "cell_type": "code",
   "execution_count": 3,
   "id": "248d3ea5-4bf2-4abe-9d49-7d63607dbf5f",
   "metadata": {},
   "outputs": [
    {
     "data": {
      "text/plain": [
       "'/home/luciano/Desktop/Laboratorio_LMSC/Curso-OpenFOAM'"
      ]
     },
     "execution_count": 3,
     "metadata": {},
     "output_type": "execute_result"
    }
   ],
   "source": [
    "pwd"
   ]
  },
  {
   "cell_type": "markdown",
   "id": "0e077f6c-142b-426c-9179-039b94ba71a1",
   "metadata": {},
   "source": [
    "## Comando: ls \n",
    "Este comando nos dice que archivos/carpetas hay en la carpeta en la cual estamos parados:"
   ]
  },
  {
   "cell_type": "code",
   "execution_count": 6,
   "id": "bc9d03c2-ace5-47c7-9f4b-461a24658c68",
   "metadata": {},
   "outputs": [
    {
     "name": "stdout",
     "output_type": "stream",
     "text": [
      " Archivo-random.md  'Introducción a la terminal.ipynb'\n"
     ]
    }
   ],
   "source": [
    "ls"
   ]
  },
  {
   "cell_type": "markdown",
   "id": "cf0c6acd-2e95-4ef2-8250-7a4f979fc2d8",
   "metadata": {},
   "source": [
    "## Tipos de rutas: Absolutas y Relativas\n",
    "\n",
    "Tenemos escencialmente dos tipos:\n",
    "- **Absoluta**: Esta tipo de ruta lo que nos asegura es que, aunque estemos actualmente en cualquier punto del sistema de carpetas, vamos a poder llegar bien a la carpeta deseada Ej: `/home/luciano/Desktop/Laboratorio_LMSC`\n",
    "- **Relativa**: Este tipo de rutas son las que utilizamos para no escribir desde el inicio toda la ruta real, sino mas bien desde donde estemos parados Ej: `../carpeta_random`"
   ]
  },
  {
   "cell_type": "markdown",
   "id": "667a7072-4942-41a2-abab-ea619fd3c387",
   "metadata": {},
   "source": [
    "## Comando: cd\n",
    "Nos permite navegar, ir a diferentes carpetas, subir o bajar en categoria de carpetas. Por ejemplo si quisieramos salir de la carpeta en la que estamos hacia su carpeta padre:"
   ]
  },
  {
   "cell_type": "code",
   "execution_count": 7,
   "id": "d722f087-2994-4d69-ac82-5a7c7b556b50",
   "metadata": {},
   "outputs": [
    {
     "name": "stdout",
     "output_type": "stream",
     "text": [
      "/home/luciano/Desktop/Laboratorio_LMSC\n"
     ]
    }
   ],
   "source": [
    "cd .."
   ]
  },
  {
   "cell_type": "markdown",
   "id": "0118b773-6ea4-4ed9-a6cd-736384d838d7",
   "metadata": {},
   "source": [
    "Y luego queremos volver a entrar en la misma carpeta de antes:"
   ]
  },
  {
   "cell_type": "code",
   "execution_count": 8,
   "id": "2b337fc5-17a7-48ba-aa77-2f8c6f5502bf",
   "metadata": {},
   "outputs": [
    {
     "name": "stdout",
     "output_type": "stream",
     "text": [
      "/home/luciano/Desktop/Laboratorio_LMSC/Curso-OpenFOAM\n"
     ]
    }
   ],
   "source": [
    "cd Curso-OpenFOAM/"
   ]
  },
  {
   "cell_type": "markdown",
   "id": "132460c8-c360-4082-8191-30855c8b78a1",
   "metadata": {},
   "source": [
    "Tambien podemos ir directamente a una carpeta escribiendo toda su dirección absoluta. Por ejemplo si quisiera a la dirección donde está instalador Open Foam y luego ver que archivos y carpetas hay dentro:"
   ]
  },
  {
   "cell_type": "code",
   "execution_count": 9,
   "id": "fbd54e01-e065-465f-9db7-74e38e8c6cd1",
   "metadata": {},
   "outputs": [
    {
     "name": "stdout",
     "output_type": "stream",
     "text": [
      "/opt/openfoam10\n"
     ]
    }
   ],
   "source": [
    "cd /opt/openfoam10/"
   ]
  },
  {
   "cell_type": "code",
   "execution_count": 10,
   "id": "fb1bd8ac-c0bb-433c-8d35-b0b109d71814",
   "metadata": {},
   "outputs": [
    {
     "name": "stdout",
     "output_type": "stream",
     "text": [
      "\u001b[0m\u001b[01;32mAllwmake\u001b[0m*      \u001b[01;34mbin\u001b[0m/         COPYING  \u001b[01;34metc\u001b[0m/        README.org  \u001b[01;34mtest\u001b[0m/       \u001b[01;34mwmake\u001b[0m/\n",
      "\u001b[01;34mapplications\u001b[0m/  build-stamp  \u001b[01;34mdoc\u001b[0m/     \u001b[01;34mplatforms\u001b[0m/  \u001b[01;34msrc\u001b[0m/        \u001b[01;34mtutorials\u001b[0m/\n"
     ]
    }
   ],
   "source": [
    "ls"
   ]
  },
  {
   "attachments": {},
   "cell_type": "markdown",
   "id": "912c1871-3ac8-48cb-97dd-5ca2367b7ca4",
   "metadata": {},
   "source": [
    "## Comando tree\n",
    "Este comando es opcional aunque recomendable y sirve mucho para ver de una manera mas visual un árbol de carpetas cualquiera que tengamos. Por ejemplo:\n",
    "\n",
    "![Tree](Imagenes/2.png)\n",
    "\n",
    "Como nota al margen, para utilizar este comando debemos instalarlo previamente ya que no es estandar de base en linux."
   ]
  },
  {
   "cell_type": "markdown",
   "id": "3b923336-2092-48da-9fb7-fba0f9fcc19e",
   "metadata": {},
   "source": [
    "# Creación y Gestión de Archivos y Directorios"
   ]
  },
  {
   "cell_type": "markdown",
   "id": "c33bd1ab-a135-4513-844a-44fd1342f80e",
   "metadata": {},
   "source": [
    "## Comando mkdir:\n",
    "\n",
    "Este comando nos permite crear carpetas en la dirección donde estemos parados. Ej:\n",
    "\n",
    "1. Verificamos donde estamos parados:"
   ]
  },
  {
   "cell_type": "code",
   "execution_count": 24,
   "id": "ad5f4a33-81af-4e17-9b0e-e0fe0c427114",
   "metadata": {},
   "outputs": [
    {
     "data": {
      "text/plain": [
       "'/home/luciano/Desktop/Laboratorio_LMSC/Curso-OpenFOAM'"
      ]
     },
     "execution_count": 24,
     "metadata": {},
     "output_type": "execute_result"
    }
   ],
   "source": [
    "pwd"
   ]
  },
  {
   "cell_type": "markdown",
   "id": "9c426d24-26f5-4a98-b84d-1eca80c92d35",
   "metadata": {},
   "source": [
    "2. Miramos que archivos/carpetas tengo dentro de la dirección en donde estoy parado"
   ]
  },
  {
   "cell_type": "code",
   "execution_count": 25,
   "id": "42752051-4a59-4413-82e8-8540af01f760",
   "metadata": {},
   "outputs": [
    {
     "name": "stdout",
     "output_type": "stream",
     "text": [
      " Archivo-random.md   \u001b[0m\u001b[01;34mCarpeta-random\u001b[0m/  'Introducción a la terminal.ipynb'\n"
     ]
    }
   ],
   "source": [
    "ls"
   ]
  },
  {
   "cell_type": "markdown",
   "id": "b15ddda8-3761-4559-8c1b-84ee5d5c7576",
   "metadata": {},
   "source": [
    "Entramos en `Carpeta-random`"
   ]
  },
  {
   "cell_type": "code",
   "execution_count": 26,
   "id": "5ec2a128-80aa-4979-a9e4-452e260c46a6",
   "metadata": {},
   "outputs": [
    {
     "name": "stdout",
     "output_type": "stream",
     "text": [
      "/home/luciano/Desktop/Laboratorio_LMSC/Curso-OpenFOAM/Carpeta-random\n"
     ]
    }
   ],
   "source": [
    "cd Carpeta-random"
   ]
  },
  {
   "cell_type": "code",
   "execution_count": 31,
   "id": "1034d9d3-46ca-42be-893e-53477cd03ae8",
   "metadata": {},
   "outputs": [
    {
     "name": "stdout",
     "output_type": "stream",
     "text": [
      "Archivo-random-2.md\n"
     ]
    }
   ],
   "source": [
    "ls"
   ]
  },
  {
   "cell_type": "markdown",
   "id": "6df87f26-dcb8-4afa-895d-1f97e31df2f1",
   "metadata": {},
   "source": [
    "Creamos una nueva carpeta llamada `sub-carpeta-1`"
   ]
  },
  {
   "cell_type": "code",
   "execution_count": 32,
   "id": "355beaac-8528-443d-877f-ab477870c026",
   "metadata": {},
   "outputs": [],
   "source": [
    "mkdir sub-carpeta-1"
   ]
  },
  {
   "cell_type": "markdown",
   "id": "6ae0be0c-e541-4c55-b897-5d07fbe68a10",
   "metadata": {},
   "source": [
    "Chequeamos que se haya creado mi `sub-carpeta-1`"
   ]
  },
  {
   "cell_type": "code",
   "execution_count": 33,
   "id": "2b0dc4ed-f9d3-4811-af71-63dee6c10262",
   "metadata": {},
   "outputs": [
    {
     "name": "stdout",
     "output_type": "stream",
     "text": [
      "Archivo-random-2.md  \u001b[0m\u001b[01;34msub-carpeta-1\u001b[0m/\n"
     ]
    }
   ],
   "source": [
    "ls"
   ]
  },
  {
   "cell_type": "markdown",
   "id": "e6cad4d2-37e4-47ae-b5f0-5175b53670d5",
   "metadata": {},
   "source": [
    "## Comando touch\n",
    "\n",
    "Este comando sirve para para poder crear archivos de toda clase. Inicialmente vacíos.\n",
    "\n",
    "Ej:"
   ]
  },
  {
   "cell_type": "code",
   "execution_count": 35,
   "id": "bf279309-6feb-46f1-88ad-b2c5e7fb8258",
   "metadata": {},
   "outputs": [
    {
     "name": "stdout",
     "output_type": "stream",
     "text": [
      "Archivo-random-2.md  \u001b[0m\u001b[01;34msub-carpeta-1\u001b[0m/\n"
     ]
    }
   ],
   "source": [
    "ls"
   ]
  },
  {
   "cell_type": "code",
   "execution_count": 40,
   "id": "dcc0ff30-dbaf-48c6-90fd-9d7ded7d1758",
   "metadata": {},
   "outputs": [
    {
     "name": "stdout",
     "output_type": "stream",
     "text": [
      "/home/luciano/Desktop/Laboratorio_LMSC/Curso-OpenFOAM/Carpeta-random/sub-carpeta-1\n"
     ]
    }
   ],
   "source": [
    "cd sub-carpeta-1/"
   ]
  },
  {
   "attachments": {},
   "cell_type": "markdown",
   "id": "9b107eeb-3af4-4560-89e1-a3eb4d431da3",
   "metadata": {},
   "source": [
    "![Tree](Imagenes/3.png)"
   ]
  },
  {
   "cell_type": "markdown",
   "id": "b2c04fe5-c1f8-4eb7-85a1-73d9c8cd4860",
   "metadata": {},
   "source": [
    "## Comando rm\n",
    "\n",
    "Este comando es el que nos permite borrar tanto archivos como carpetas. Tambien tiene una opción que nos permite borrar una carpeta con archivos dentro. Si intentamos borrar una carpeta con archivos dentro sin agregar esta opción nos arrojará un error.\n",
    "\n",
    "Ej:"
   ]
  },
  {
   "cell_type": "code",
   "execution_count": 42,
   "id": "45efae6d-3f63-4957-9b6f-447224699c0e",
   "metadata": {},
   "outputs": [
    {
     "data": {
      "text/plain": [
       "'/home/luciano/Desktop/Laboratorio_LMSC/Curso-OpenFOAM/Carpeta-random/sub-carpeta-1'"
      ]
     },
     "execution_count": 42,
     "metadata": {},
     "output_type": "execute_result"
    }
   ],
   "source": [
    "pwd"
   ]
  },
  {
   "cell_type": "code",
   "execution_count": 43,
   "id": "6eab97aa-f925-42f6-954b-353d46d09495",
   "metadata": {},
   "outputs": [
    {
     "name": "stdout",
     "output_type": "stream",
     "text": [
      "/home/luciano/Desktop/Laboratorio_LMSC/Curso-OpenFOAM/Carpeta-random\n"
     ]
    }
   ],
   "source": [
    "cd .."
   ]
  },
  {
   "cell_type": "code",
   "execution_count": 45,
   "id": "e3feaf43-edc6-42d2-bef9-d10c868f4581",
   "metadata": {},
   "outputs": [
    {
     "name": "stdout",
     "output_type": "stream",
     "text": [
      "Archivo-random-2.md  \u001b[0m\u001b[01;34msub-carpeta-1\u001b[0m/\n"
     ]
    }
   ],
   "source": [
    "ls"
   ]
  },
  {
   "cell_type": "markdown",
   "id": "a7d1f66c-3e95-41f6-990f-c103ade83da0",
   "metadata": {},
   "source": [
    "Ahora vamos a borrar `sub-carpeta-1` junto con todo el contenido que tenga internamente"
   ]
  },
  {
   "cell_type": "code",
   "execution_count": 46,
   "id": "97302b08-5c2a-4e7f-8bd4-63f04ea374a6",
   "metadata": {},
   "outputs": [],
   "source": [
    "rm -r sub-carpeta-1/"
   ]
  },
  {
   "cell_type": "code",
   "execution_count": 47,
   "id": "95eb1ad3-a82f-4466-b42e-144757227b95",
   "metadata": {},
   "outputs": [
    {
     "name": "stdout",
     "output_type": "stream",
     "text": [
      "Archivo-random-2.md\n"
     ]
    }
   ],
   "source": [
    "ls"
   ]
  },
  {
   "cell_type": "markdown",
   "id": "e08a30b0-5e5c-480b-98c1-50640dcfe18c",
   "metadata": {},
   "source": [
    "## Comando cp y mv\n",
    "\n",
    "Con el comando cp podremos copiar archivos de una dirección a otra. Ya sea absoluta o relativa.\n",
    "\n",
    "Veamos un ejemplo:"
   ]
  },
  {
   "cell_type": "code",
   "execution_count": 48,
   "id": "e6aae8ed-885d-4995-b182-39cf10c702b7",
   "metadata": {},
   "outputs": [
    {
     "name": "stdout",
     "output_type": "stream",
     "text": [
      "Archivo-random-2.md\n"
     ]
    }
   ],
   "source": [
    "ls"
   ]
  },
  {
   "cell_type": "code",
   "execution_count": 49,
   "id": "e8382c9f-7860-43c1-97d4-a77aa1432dad",
   "metadata": {},
   "outputs": [],
   "source": [
    "mkdir carpeta-para-copiar-archivos"
   ]
  },
  {
   "cell_type": "code",
   "execution_count": 50,
   "id": "6b402579-fe56-484b-b20d-e5db95091ee7",
   "metadata": {},
   "outputs": [
    {
     "name": "stdout",
     "output_type": "stream",
     "text": [
      "Archivo-random-2.md  \u001b[0m\u001b[01;34mcarpeta-para-copiar-archivos\u001b[0m/\n"
     ]
    }
   ],
   "source": [
    "ls"
   ]
  },
  {
   "cell_type": "code",
   "execution_count": 51,
   "id": "d100bc40-9dce-4c13-9a37-750a1c710cc2",
   "metadata": {},
   "outputs": [],
   "source": [
    "cp Archivo-random-2.md carpeta-para-copiar-archivos/Archivo-random-2.md"
   ]
  },
  {
   "cell_type": "code",
   "execution_count": 52,
   "id": "92e64a18-b6b8-48af-9716-04882cfdbad5",
   "metadata": {},
   "outputs": [
    {
     "name": "stdout",
     "output_type": "stream",
     "text": [
      "/home/luciano/Desktop/Laboratorio_LMSC/Curso-OpenFOAM/Carpeta-random/carpeta-para-copiar-archivos\n"
     ]
    }
   ],
   "source": [
    "cd carpeta-para-copiar-archivos/"
   ]
  },
  {
   "cell_type": "code",
   "execution_count": 53,
   "id": "7e82486f-3644-411b-b0c9-3ca2bd50f5be",
   "metadata": {},
   "outputs": [
    {
     "name": "stdout",
     "output_type": "stream",
     "text": [
      "Archivo-random-2.md\n"
     ]
    }
   ],
   "source": [
    "ls"
   ]
  },
  {
   "cell_type": "markdown",
   "id": "c0bfc220-9b55-49cb-b5c9-f3ff8d87ff82",
   "metadata": {},
   "source": [
    "Ahora con **mv** haremos exactamente lo mismo pero la diferencia es que no copia, sino que mueve. Es decir que el archivo original es borrado al momento que se crea la copia."
   ]
  },
  {
   "cell_type": "markdown",
   "id": "48c3b82b-97bd-4a26-a36f-609585bd858d",
   "metadata": {},
   "source": [
    "## Comando nano\n",
    "\n",
    "Este comando es el mas utilizado a la hora de **modificar** un archivo de texto dentro de nuestro sistema. Es por asi decirlo, un editor de texto por defecto que trae integrado linux. Por supuesto es muy rudimentario debido a que fue creado con la intención de aportar las herramientas mínimas y necesarias para poder modificar un archivo.\n",
    "\n",
    "Ej:"
   ]
  },
  {
   "attachments": {},
   "cell_type": "markdown",
   "id": "4bd688f3-431e-496d-a795-ac2eee0d3a3e",
   "metadata": {},
   "source": [
    "![Tree](Imagenes/4.png)\n",
    "![Tree](Imagenes/5.png)\n",
    "![Tree](Imagenes/6.png)\n",
    "![Tree](Imagenes/7.png)"
   ]
  },
  {
   "attachments": {},
   "cell_type": "markdown",
   "id": "b6d40aac-92a6-4549-96bd-2d250479c45d",
   "metadata": {},
   "source": [
    "## Comando head y tail + opción de grep\n",
    "\n",
    "Estos comandos nos permiten ver de manera mas amigable archivos de texto de nuestro sistema. Comenzando tanto por la \"cabeza\" como por la \"cola\".\n",
    "\n",
    "Ej:\n",
    "\n",
    "![Tree](Imagenes/8.png)\n",
    "![Tree](Imagenes/9.png)\n",
    "\n",
    "Por otro lado con grep podremos hacer una pequeña búsqueda dentro de los archivos de textos, esto es especialmente útil para los logs:\n",
    "![Tree](Imagenes/10.png)"
   ]
  },
  {
   "cell_type": "markdown",
   "id": "41e8a002-c357-452a-9783-dffa3a6f78b3",
   "metadata": {},
   "source": [
    "# Permisos y Ejecución de scripts\n",
    "\n",
    "Antes que nada definamos que es un \"script\" para linux. \n",
    "\n",
    "Bien, debido a que estamos trabajando sobre una interfaz que es solo texto, esto nos permite hacernos la siguiente pregunta: ¿Podría dejar un texto escrito en algún archivo con las intrucciones mismas que escribo, sin necesidad de escribirlas una a una en tiempo de ejecución?\n",
    "\n",
    "La respuesta a esta pregunta es que si, esos scripts contienen estos mismos comandos que hemos estado utilizando hasta el momento. Con ellos le diremos al sistema operativo que hacer, como hacerlo y otras cosas mas. Incluso dentro de un script podemos llamar a otros scripts para que sean ejecutados, lo cual es una ventaja **gigantezca** ya que de esta manera podremos realizar cosas como:\n",
    "\n",
    "- Automatización de ejecuciones encoladas.\n",
    "- Automatización de Simulaciones.\n",
    "- Automatización de reportes producto de las simulaciones."
   ]
  },
  {
   "cell_type": "markdown",
   "id": "161b1d92-99e6-4cb0-b615-2cfd73e5e675",
   "metadata": {},
   "source": [
    "\n",
    "Por defecto, todos los scripts nuevos en linux tienen bloqueados sus permisos. Esto es una medida de seguridad estandar que tiene el sistema operativo. Para poder activar sus permisos de tendremos que hacer uso del comando `chmod` con el le diremos que queremos hacer con ese script.\n",
    "\n",
    "De manera que:\n",
    "```bash\n",
    "chmod r # Permisos de lectura \n",
    "chmod w # Permisos de escritura\n",
    "chmod x # Permisos de ejecución\n",
    "```\n",
    "\n",
    "Luego con + o - agregaremos o quitaremos permisos:\n",
    "```bash\n",
    "chmod +x # Agregamos permiso de ejecución\n",
    "chmod -r # Quitamos permiso de lectura\n",
    "```\n",
    "\n",
    "Como ejemplo vamos a crear un script, vamos a poner el comando `pwd` dentro, vamos a darle permisos de ejecución.\n",
    "\n",
    "![Tree](Imagenes/11.png)\n",
    "![Tree](Imagenes/12.png)\n",
    "![Tree](Imagenes/13.png)\n",
    "\n",
    "Ahora vamos a ejecutar el script, lo cual se hace anteponiendo `./nombre-del-script`:\n",
    "\n",
    "![Tree](Imagenes/14.png)\n",
    "\n",
    "Como vemos el script ejecutó la orden `pwd` que habíamos seteado dentro, dandomé la dirección en donde me encuentro actualmente"
   ]
  },
  {
   "cell_type": "markdown",
   "id": "999c0b07",
   "metadata": {},
   "source": [
    "## Ejecuciones en segundo plano y comando `top`\n",
    "\n",
    "Existe una manera de ejecutar scripts tal que su ejecución suceda en segundo plano. Que quiere decir esto?, que por mas que el script tarde 1 hora en ejecutarse, no nos bloqueará la terminal, es decir que no vamos a tener que esperar a que termine su ejecución para realizar otras actividades en el sistema operativo. \n",
    "\n",
    "Esto es clave a la hora correr simulaciones, ya que generalmente están en el rango de minutos a dias enteros en demoras de ejecución. Naturalmente necesitamos poder dejar corriendo estas simulaciones de manera inimterrumpida, estemos o no activos en la terminal.\n",
    "\n",
    "Para poder hacer esto el comando clave es:\n",
    "\n",
    "```bash\n",
    "./script-a-ejecutar &\n",
    "```\n",
    "\n",
    "Ese `&` es el que lleva el proceso automáticamente a segundo plano y lo deja corriendo allí.\n",
    "\n",
    "Una vez hecho esto, podremos ver el proceso corriendo con el comando `top`. El resultado de este comando es una pantalla como la siguiente:\n",
    "![Tree](Imagenes/15.png)\n",
    "\n",
    "En caso de querer detener un proceso, deberemos lanzar el comando `kill #PID_NUMBER` en donde #PID_NUMBER es número del proceso. Por ejemplo si quisiera eliminar el proceso con código `258070` debería lanzar: `kill 258075`"
   ]
  },
  {
   "cell_type": "markdown",
   "id": "8afd3fec-b984-4cb9-b03e-dc5d6e307bca",
   "metadata": {},
   "source": [
    "# TAREA\n",
    "\n",
    "Utilizando la consola de ubuntu 22.04 en WSL realizar:\n",
    "\n",
    "1. Crear una carpeta llamada `curso_open_foam`\n",
    "2. Crear dentro de esa carpeta otras tres carpetas llamadas `archivos_1`, `archivos_2` y `archivos_3`.\n",
    "3. Dentro de Archivos_1 crear tres documentos con extensión .sh llamados: `script_1.sh`, `script_2.sh` y `script_3.sh`. Deberán darles permisos de ejecución a estos archivos.\n",
    "4. Mover `script_2.sh` a la carpeta `archivos_2` y lo mismo para el `script_3.sh` en su respectiva carpeta.\n",
    "5. Con el comando `nano` modificar todos los scripts (uno por uno) y para que dentro digan de que archivo se trata. Ej: `echo \"Hola soy el script_1\"` (Comando echo).\n",
    "6. Posterior a eso, parados dentro de la carpeta  `curso_open_foam` pero por fuera de las carpetas `archivos_1`, `archivos_2` y `archivos_3`. Deberán crear un .sh ejecutable que logre ejecutar de una sola vez los tres .sh que están dentro de las carpetas creadas. Esto debería sacar una salida similar a esta:\n",
    "```\n",
    "Hola soy el archivo n°1\n",
    "Hola soy el archivo n°2\n",
    "Hola soy el archivo n°3\n",
    "```\n",
    "\n",
    "Al finalizar esta practica su arbol de archivos/carpetas se deberá ver de la siguiente forma:\n",
    "```bash\n",
    "└── curso_open_foam\n",
    "    ├── archivos_1\n",
    "    │   └── script_1.sh\n",
    "    ├── archivos_2\n",
    "    │   └── script_2.sh\n",
    "    ├── archivos_3\n",
    "    │   └── script_3.sh\n",
    "    └── ejecución_global.sh\n",
    "```"
   ]
  }
 ],
 "metadata": {
  "kernelspec": {
   "display_name": "Python 3 (ipykernel)",
   "language": "python",
   "name": "python3"
  },
  "language_info": {
   "codemirror_mode": {
    "name": "ipython",
    "version": 3
   },
   "file_extension": ".py",
   "mimetype": "text/x-python",
   "name": "python",
   "nbconvert_exporter": "python",
   "pygments_lexer": "ipython3",
   "version": "3.10.12"
  }
 },
 "nbformat": 4,
 "nbformat_minor": 5
}
